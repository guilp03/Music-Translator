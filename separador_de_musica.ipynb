{
  "nbformat": 4,
  "nbformat_minor": 0,
  "metadata": {
    "colab": {
      "provenance": [],
      "authorship_tag": "ABX9TyPsQHV7SW1r1+lSUiYl/7Gv",
      "include_colab_link": true
    },
    "kernelspec": {
      "name": "python3",
      "display_name": "Python 3"
    },
    "language_info": {
      "name": "python"
    }
  },
  "cells": [
    {
      "cell_type": "markdown",
      "metadata": {
        "id": "view-in-github",
        "colab_type": "text"
      },
      "source": [
        "<a href=\"https://colab.research.google.com/github/guilp03/Music-Translator/blob/main/separador_de_musica.ipynb\" target=\"_parent\"><img src=\"https://colab.research.google.com/assets/colab-badge.svg\" alt=\"Open In Colab\"/></a>"
      ]
    },
    {
      "cell_type": "code",
      "source": [
        "#Fazer upload do arquivo .mp3\n",
        "from google.colab import files\n",
        "uploaded = files.upload()\n"
      ],
      "metadata": {
        "id": "O-DPjNruX2M1"
      },
      "execution_count": null,
      "outputs": []
    },
    {
      "cell_type": "code",
      "execution_count": 7,
      "metadata": {
        "id": "jwaftQJ4Nwcl"
      },
      "outputs": [],
      "source": [
        "import requests\n",
        "import os\n",
        "import time\n",
        "\n",
        "API_KEY = \"03ee442b-17c3-43aa-bd2c-09753e410fa2\"\n",
        "\n",
        "headers = {\n",
        "    \"Authorization\": API_KEY\n",
        "}\n",
        "\n",
        "res = requests.get(\"https://api.music.ai/v1/upload\", headers=headers)\n",
        "upload_info = res.json()\n",
        "\n",
        "upload_url = upload_info['uploadUrl']\n",
        "download_url = upload_info['downloadUrl']\n"
      ]
    },
    {
      "cell_type": "code",
      "source": [
        "# Caminho local do arquivo\n",
        "file_path = \"\"\n",
        "\n",
        "with open(file_path, \"rb\") as f:\n",
        "    put_res = requests.put(upload_url, data=f)\n",
        "    print(\"Status do upload:\", put_res.status_code)\n"
      ],
      "metadata": {
        "id": "S0CwvU6bWCwo"
      },
      "execution_count": null,
      "outputs": []
    },
    {
      "cell_type": "code",
      "source": [
        "payload = {\n",
        "    \"name\": \"Separar Stems\",\n",
        "    \"workflow\": \"separador_main\",\n",
        "    \"params\": {\n",
        "        \"inputUrl\": download_url\n",
        "    }\n",
        "}\n",
        "\n",
        "job_res = requests.post(\n",
        "    \"https://api.music.ai/v1/job\",\n",
        "    headers={**headers, \"Content-Type\": \"application/json\"},\n",
        "    json=payload\n",
        ")\n",
        "\n",
        "print(job_res.json())\n",
        "\n"
      ],
      "metadata": {
        "id": "490f8f4DYZTW"
      },
      "execution_count": null,
      "outputs": []
    },
    {
      "cell_type": "code",
      "source": [
        "for i in range(2):\n",
        "  JOB_ID = \"\" #copie e cole o id gerado\n",
        "  res = requests.get(f\"https://api.music.ai/v1/job/{JOB_ID}\", headers=headers)\n",
        "  time.sleep(30)\n",
        "  data = res.json()\n",
        "  output_dir = \"/content/stems\"\n",
        "  os.makedirs(output_dir, exist_ok=True)\n",
        "  for stem, url in data[\"result\"].items():\n",
        "        print(f\"{stem}: {url}\")\n",
        "        local_path = f\"{output_dir}/{stem}.wav\"\n",
        "        print(f\"Baixando {stem} → {local_path}\")\n",
        "        with requests.get(url, stream=True) as r:\n",
        "          r.raise_for_status()\n",
        "          with open(local_path, \"wb\") as f:\n",
        "            for chunk in r.iter_content(chunk_size=8192):\n",
        "                f.write(chunk)\n",
        "        print()"
      ],
      "metadata": {
        "id": "9pjEpxBXdUbQ"
      },
      "execution_count": null,
      "outputs": []
    }
  ]
}