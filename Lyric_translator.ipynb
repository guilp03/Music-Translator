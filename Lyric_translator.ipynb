{
  "cells": [
    {
      "cell_type": "code",
      "execution_count": 1,
      "metadata": {
        "colab": {
          "base_uri": "https://localhost:8080/"
        },
        "id": "LUZxVUzEMrGt",
        "outputId": "8af45b4a-2da1-47f3-eb32-91539298a2ad"
      },
      "outputs": [
        {
          "name": "stdout",
          "output_type": "stream",
          "text": [
            "Collecting openai\n",
            "  Downloading openai-1.98.0-py3-none-any.whl.metadata (29 kB)\n",
            "Collecting pyphen\n",
            "  Downloading pyphen-0.17.2-py3-none-any.whl.metadata (3.2 kB)\n",
            "Collecting anyio<5,>=3.5.0 (from openai)\n",
            "  Downloading anyio-4.9.0-py3-none-any.whl.metadata (4.7 kB)\n",
            "Collecting distro<2,>=1.7.0 (from openai)\n",
            "  Downloading distro-1.9.0-py3-none-any.whl.metadata (6.8 kB)\n",
            "Collecting httpx<1,>=0.23.0 (from openai)\n",
            "  Downloading httpx-0.28.1-py3-none-any.whl.metadata (7.1 kB)\n",
            "Collecting jiter<1,>=0.4.0 (from openai)\n",
            "  Downloading jiter-0.10.0-cp312-cp312-manylinux_2_17_x86_64.manylinux2014_x86_64.whl.metadata (5.2 kB)\n",
            "Collecting pydantic<3,>=1.9.0 (from openai)\n",
            "  Downloading pydantic-2.11.7-py3-none-any.whl.metadata (67 kB)\n",
            "Collecting sniffio (from openai)\n",
            "  Downloading sniffio-1.3.1-py3-none-any.whl.metadata (3.9 kB)\n",
            "Collecting tqdm>4 (from openai)\n",
            "  Downloading tqdm-4.67.1-py3-none-any.whl.metadata (57 kB)\n",
            "Collecting typing-extensions<5,>=4.11 (from openai)\n",
            "  Downloading typing_extensions-4.14.1-py3-none-any.whl.metadata (3.0 kB)\n",
            "Collecting idna>=2.8 (from anyio<5,>=3.5.0->openai)\n",
            "  Downloading idna-3.10-py3-none-any.whl.metadata (10 kB)\n",
            "Collecting certifi (from httpx<1,>=0.23.0->openai)\n",
            "  Downloading certifi-2025.7.14-py3-none-any.whl.metadata (2.4 kB)\n",
            "Collecting httpcore==1.* (from httpx<1,>=0.23.0->openai)\n",
            "  Downloading httpcore-1.0.9-py3-none-any.whl.metadata (21 kB)\n",
            "Collecting h11>=0.16 (from httpcore==1.*->httpx<1,>=0.23.0->openai)\n",
            "  Downloading h11-0.16.0-py3-none-any.whl.metadata (8.3 kB)\n",
            "Collecting annotated-types>=0.6.0 (from pydantic<3,>=1.9.0->openai)\n",
            "  Downloading annotated_types-0.7.0-py3-none-any.whl.metadata (15 kB)\n",
            "Collecting pydantic-core==2.33.2 (from pydantic<3,>=1.9.0->openai)\n",
            "  Downloading pydantic_core-2.33.2-cp312-cp312-manylinux_2_17_x86_64.manylinux2014_x86_64.whl.metadata (6.8 kB)\n",
            "Collecting typing-inspection>=0.4.0 (from pydantic<3,>=1.9.0->openai)\n",
            "  Downloading typing_inspection-0.4.1-py3-none-any.whl.metadata (2.6 kB)\n",
            "Downloading openai-1.98.0-py3-none-any.whl (767 kB)\n",
            "\u001b[2K   \u001b[90m━━━━━━━━━━━━━━━━━━━━━━━━━━━━━━━━━━━━━━━━\u001b[0m \u001b[32m767.7/767.7 kB\u001b[0m \u001b[31m3.2 MB/s\u001b[0m  \u001b[33m0:00:00\u001b[0m eta \u001b[36m0:00:01\u001b[0m\n",
            "\u001b[?25hDownloading anyio-4.9.0-py3-none-any.whl (100 kB)\n",
            "Downloading distro-1.9.0-py3-none-any.whl (20 kB)\n",
            "Downloading httpx-0.28.1-py3-none-any.whl (73 kB)\n",
            "Downloading httpcore-1.0.9-py3-none-any.whl (78 kB)\n",
            "Downloading jiter-0.10.0-cp312-cp312-manylinux_2_17_x86_64.manylinux2014_x86_64.whl (352 kB)\n",
            "Downloading pydantic-2.11.7-py3-none-any.whl (444 kB)\n",
            "Downloading pydantic_core-2.33.2-cp312-cp312-manylinux_2_17_x86_64.manylinux2014_x86_64.whl (2.0 MB)\n",
            "\u001b[2K   \u001b[90m━━━━━━━━━━━━━━━━━━━━━━━━━━━━━━━━━━━━━━━━\u001b[0m \u001b[32m2.0/2.0 MB\u001b[0m \u001b[31m4.7 MB/s\u001b[0m  \u001b[33m0:00:00\u001b[0m eta \u001b[36m0:00:01\u001b[0m\n",
            "\u001b[?25hDownloading typing_extensions-4.14.1-py3-none-any.whl (43 kB)\n",
            "Downloading pyphen-0.17.2-py3-none-any.whl (2.1 MB)\n",
            "\u001b[2K   \u001b[90m━━━━━━━━━━━━━━━━━━━━━━━━━━━━━━━━━━━━━━━━\u001b[0m \u001b[32m2.1/2.1 MB\u001b[0m \u001b[31m2.6 MB/s\u001b[0m  \u001b[33m0:00:00\u001b[0m eta \u001b[36m0:00:01\u001b[0m\n",
            "\u001b[?25hDownloading annotated_types-0.7.0-py3-none-any.whl (13 kB)\n",
            "Downloading h11-0.16.0-py3-none-any.whl (37 kB)\n",
            "Downloading idna-3.10-py3-none-any.whl (70 kB)\n",
            "Downloading sniffio-1.3.1-py3-none-any.whl (10 kB)\n",
            "Downloading tqdm-4.67.1-py3-none-any.whl (78 kB)\n",
            "Downloading typing_inspection-0.4.1-py3-none-any.whl (14 kB)\n",
            "Downloading certifi-2025.7.14-py3-none-any.whl (162 kB)\n",
            "Installing collected packages: typing-extensions, tqdm, sniffio, pyphen, jiter, idna, h11, distro, certifi, annotated-types, typing-inspection, pydantic-core, httpcore, anyio, pydantic, httpx, openai\n",
            "\u001b[2K   \u001b[90m━━━━━━━━━━━━━━━━━━━━━━━━━━━━━━━━━━━━━━━━\u001b[0m \u001b[32m17/17\u001b[0m [openai]16/17\u001b[0m [openai]c]\n",
            "\u001b[1A\u001b[2KSuccessfully installed annotated-types-0.7.0 anyio-4.9.0 certifi-2025.7.14 distro-1.9.0 h11-0.16.0 httpcore-1.0.9 httpx-0.28.1 idna-3.10 jiter-0.10.0 openai-1.98.0 pydantic-2.11.7 pydantic-core-2.33.2 pyphen-0.17.2 sniffio-1.3.1 tqdm-4.67.1 typing-extensions-4.14.1 typing-inspection-0.4.1\n"
          ]
        }
      ],
      "source": [
        "!pip install openai pyphen"
      ]
    },
    {
      "cell_type": "code",
      "execution_count": 5,
      "metadata": {
        "id": "4RtfaU1nNytN"
      },
      "outputs": [],
      "source": [
        "import os\n",
        "import openai\n",
        "import pyphen\n",
        "from dotenv import load_dotenv\n",
        "\n",
        "load_dotenv()\n",
        "api_key = os.getenv(\"OPENAI_API_KEY\")\n",
        "client = openai.OpenAI(api_key=api_key)\n",
        "dic = pyphen.Pyphen(lang='pt_BR')\n",
        "dic_pt = pyphen.Pyphen(lang='pt_BR')\n",
        "dic_en = pyphen.Pyphen(lang='en_US')\n"
      ]
    },
    {
      "cell_type": "code",
      "execution_count": 6,
      "metadata": {
        "id": "WuogXtTjN763"
      },
      "outputs": [],
      "source": [
        "def contar_silabas_verso(verso: str) -> int:\n",
        "    palavras = verso.split()\n",
        "    silabas = sum(len(dic.inserted(palavra).split('-')) for palavra in palavras)\n",
        "    return silabas"
      ]
    },
    {
      "cell_type": "code",
      "execution_count": 7,
      "metadata": {
        "id": "WsGIdN-8N8kA"
      },
      "outputs": [],
      "source": [
        "def traduzir_com_adaptacao(letra_original: str, destino=\"português\") -> str:\n",
        "    prompt = f\"\"\"\n",
        "    Traduza e adapte a seguinte letra de música para o {destino}.\n",
        "    Preserve a emoção, a métrica (número de sílabas poéticas por verso) e as rimas.\n",
        "    Respeite o ritmo natural e soe como se fosse escrita originalmente nessa língua.\n",
        "\n",
        "    Letra:\n",
        "    {letra_original}\n",
        "    \"\"\"\n",
        "    response = client.chat.completions.create(\n",
        "        model=\"gpt-4o\",\n",
        "        messages=[{\"role\": \"user\", \"content\": prompt}],\n",
        "        temperature=0.9\n",
        "    )\n",
        "    return response.choices[0].message.content"
      ]
    },
    {
      "cell_type": "code",
      "execution_count": 8,
      "metadata": {
        "id": "mVS5x1JdN-hf"
      },
      "outputs": [],
      "source": [
        "def processar_letra(letra_original: str):\n",
        "    print(\"🎵 Traduzindo e adaptando...\\n\")\n",
        "    letra_traduzida = traduzir_com_adaptacao(letra_original)\n",
        "\n",
        "    print(\"✅ Letra traduzida e adaptada:\")\n",
        "    print(\"-\" * 50)\n",
        "    print(letra_traduzida)\n",
        "    print(\"-\" * 50)\n",
        "\n",
        "    print(\"\\n📏 Contando sílabas poéticas por verso:\")\n",
        "    for linha in letra_traduzida.splitlines():\n",
        "        if linha.strip():\n",
        "            silabas = contar_silabas_verso(linha)\n",
        "            print(f\"{linha}  →  {silabas} sílabas\")"
      ]
    },
    {
      "cell_type": "code",
      "execution_count": 9,
      "metadata": {
        "id": "sANEvG-ROSUt"
      },
      "outputs": [],
      "source": [
        "letra_ingles = \"\"\"Another turning point, a fork stuck in the road\n",
        "Time grabs you by the wrist, directs you where to go\n",
        "So make the best of this test, and don't ask why\n",
        "It's not a question, but a lesson learned in time\n",
        "It's something unpredictable\n",
        "But in the end, it's right\n",
        "I hope you had the time of your life\n",
        "So take the photographs and still frames in your mind\n",
        "Hang it on a shelf in good health and good time\n",
        "Tattoos of memories, and dead skin on trial\n",
        "For what it's worth, it was worth all the while\n",
        "It's something unpredictable\n",
        "But in the end, it's right\n",
        "I hope you had the time of your life\n",
        "It's something unpredictable\n",
        "But in the end, it's right\n",
        "I hope you had the time of your life\n",
        "It's something unpredictable\n",
        "But in the end, it's right\n",
        "I hope you had the time of your life\n",
        "\"\"\""
      ]
    },
    {
      "cell_type": "code",
      "execution_count": 10,
      "metadata": {
        "colab": {
          "base_uri": "https://localhost:8080/"
        },
        "id": "arnvtSc3OaxC",
        "outputId": "dfea5096-c259-4dd6-ab48-99f09e8e5a04"
      },
      "outputs": [
        {
          "name": "stdout",
          "output_type": "stream",
          "text": [
            "🎵 Traduzindo e adaptando...\n",
            "\n",
            "✅ Letra traduzida e adaptada:\n",
            "--------------------------------------------------\n",
            "Outro ponto de virada, uma escolha na estrada  \n",
            "O tempo te puxa pela mão, te leva sem mais nada  \n",
            "Aproveite bem este teste e não pergunte por quê  \n",
            "Não é uma questão, mas um aprendizado a se ter  \n",
            "É algo imprevisível  \n",
            "Mas no fim é o melhor  \n",
            "Espero que tenha aproveitado ao redor  \n",
            "\n",
            "Guarde fotografias e cenas na mente a vagar  \n",
            "Pendure na prateleira, saúde e tempo a guardar  \n",
            "Tatuagens de memórias, pele velha a provar  \n",
            "Valeu a pena, foi bom recordar  \n",
            "É algo imprevisível  \n",
            "Mas no fim é o melhor  \n",
            "Espero que tenha aproveitado ao redor  \n",
            "\n",
            "É algo imprevisível  \n",
            "Mas no fim é o melhor  \n",
            "Espero que tenha aproveitado ao redor  \n",
            "\n",
            "É algo imprevisível  \n",
            "Mas no fim é o melhor  \n",
            "Espero que tenha aproveitado ao redor\n",
            "--------------------------------------------------\n",
            "\n",
            "📏 Contando sílabas poéticas por verso:\n",
            "Outro ponto de virada, uma escolha na estrada    →  16 sílabas\n",
            "O tempo te puxa pela mão, te leva sem mais nada    →  16 sílabas\n",
            "Aproveite bem este teste e não pergunte por quê    →  15 sílabas\n",
            "Não é uma questão, mas um aprendizado a se ter    →  14 sílabas\n",
            "É algo imprevisível    →  8 sílabas\n",
            "Mas no fim é o melhor    →  7 sílabas\n",
            "Espero que tenha aproveitado ao redor    →  13 sílabas\n",
            "Guarde fotografias e cenas na mente a vagar    →  16 sílabas\n",
            "Pendure na prateleira, saúde e tempo a guardar    →  16 sílabas\n",
            "Tatuagens de memórias, pele velha a provar    →  15 sílabas\n",
            "Valeu a pena, foi bom recordar    →  10 sílabas\n",
            "É algo imprevisível    →  8 sílabas\n",
            "Mas no fim é o melhor    →  7 sílabas\n",
            "Espero que tenha aproveitado ao redor    →  13 sílabas\n",
            "É algo imprevisível    →  8 sílabas\n",
            "Mas no fim é o melhor    →  7 sílabas\n",
            "Espero que tenha aproveitado ao redor    →  13 sílabas\n",
            "É algo imprevisível    →  8 sílabas\n",
            "Mas no fim é o melhor    →  7 sílabas\n",
            "Espero que tenha aproveitado ao redor  →  13 sílabas\n"
          ]
        }
      ],
      "source": [
        "processar_letra(letra_ingles)"
      ]
    },
    {
      "cell_type": "code",
      "execution_count": null,
      "metadata": {
        "id": "FGx-AYNyTTOV"
      },
      "outputs": [],
      "source": []
    },
    {
      "cell_type": "code",
      "execution_count": null,
      "metadata": {},
      "outputs": [],
      "source": []
    }
  ],
  "metadata": {
    "colab": {
      "provenance": []
    },
    "kernelspec": {
      "display_name": ".venv",
      "language": "python",
      "name": "python3"
    },
    "language_info": {
      "codemirror_mode": {
        "name": "ipython",
        "version": 3
      },
      "file_extension": ".py",
      "mimetype": "text/x-python",
      "name": "python",
      "nbconvert_exporter": "python",
      "pygments_lexer": "ipython3",
      "version": "3.12.3"
    }
  },
  "nbformat": 4,
  "nbformat_minor": 0
}
